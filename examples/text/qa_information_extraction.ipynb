{
 "cells": [
  {
   "cell_type": "code",
   "execution_count": 1,
   "metadata": {},
   "outputs": [],
   "source": [
    "%reload_ext autoreload\n",
    "%autoreload 2\n",
    "%matplotlib inline\n",
    "import os\n",
    "os.environ[\"CUDA_DEVICE_ORDER\"]=\"PCI_BUS_ID\";\n",
    "os.environ[\"CUDA_VISIBLE_DEVICES\"]=\"0\"; "
   ]
  },
  {
   "cell_type": "markdown",
   "metadata": {},
   "source": [
    "# QA-Based Information Extraction\n",
    "\n",
    "\n",
    "The latest version of ktrain (v0.28.0), an open-source machine learning library, now includes a “universal” information extractor, which uses a Question-Answering model to extract any information of interest from documents.\n",
    "\n",
    "Suppose you have a table (e.g., an Excel spreadsheet) that looks like the DataFrame below. (In this example, each document is a single sentence, but each row can potenially be an entire report with many paragraphs.)"
   ]
  },
  {
   "cell_type": "code",
   "execution_count": 2,
   "metadata": {},
   "outputs": [
    {
     "data": {
      "text/html": [
       "<div>\n",
       "<style scoped>\n",
       "    .dataframe tbody tr th:only-of-type {\n",
       "        vertical-align: middle;\n",
       "    }\n",
       "\n",
       "    .dataframe tbody tr th {\n",
       "        vertical-align: top;\n",
       "    }\n",
       "\n",
       "    .dataframe thead th {\n",
       "        text-align: right;\n",
       "    }\n",
       "</style>\n",
       "<table border=\"1\" class=\"dataframe\">\n",
       "  <thead>\n",
       "    <tr style=\"text-align: right;\">\n",
       "      <th></th>\n",
       "      <th>Text</th>\n",
       "    </tr>\n",
       "  </thead>\n",
       "  <tbody>\n",
       "    <tr>\n",
       "      <th>0</th>\n",
       "      <td>Indeed, risk factors are sex, obesity, genetic factors and mechanical factors (3) .</td>\n",
       "    </tr>\n",
       "    <tr>\n",
       "      <th>1</th>\n",
       "      <td>There is a risk of Donald Trump running again in 2024.</td>\n",
       "    </tr>\n",
       "    <tr>\n",
       "      <th>2</th>\n",
       "      <td>This risk was consistent across patients stratified by history of CVD, risk factors \\nbut no CVD, and neither CVD nor risk factors.</td>\n",
       "    </tr>\n",
       "    <tr>\n",
       "      <th>3</th>\n",
       "      <td>Risk factors associated with subsequent death include older age, hypertension, diabetes, \\nischemic heart disease, obesity and chronic lung disease; however, sometimes \\nthere are no obvious risk factors .</td>\n",
       "    </tr>\n",
       "    <tr>\n",
       "      <th>4</th>\n",
       "      <td>Three major risk factors for COVID-19 were sex (male), age (≥60), and severe pneumonia.</td>\n",
       "    </tr>\n",
       "    <tr>\n",
       "      <th>5</th>\n",
       "      <td>His speciality is medical risk assessments and is 30 years old.</td>\n",
       "    </tr>\n",
       "    <tr>\n",
       "      <th>6</th>\n",
       "      <td>Results: A total of nine studies including 356 patients were included in this study, \\nthe mean age was 52.4 years and 221 (62.1%) were male.</td>\n",
       "    </tr>\n",
       "  </tbody>\n",
       "</table>\n",
       "</div>"
      ],
      "text/plain": [
       "                                                                                                                                                                                                            Text\n",
       "0                                                                                                                            Indeed, risk factors are sex, obesity, genetic factors and mechanical factors (3) .\n",
       "1                                                                                                                                                         There is a risk of Donald Trump running again in 2024.\n",
       "2                                                                            This risk was consistent across patients stratified by history of CVD, risk factors \\nbut no CVD, and neither CVD nor risk factors.\n",
       "3  Risk factors associated with subsequent death include older age, hypertension, diabetes, \\nischemic heart disease, obesity and chronic lung disease; however, sometimes \\nthere are no obvious risk factors .\n",
       "4                                                                                                                        Three major risk factors for COVID-19 were sex (male), age (≥60), and severe pneumonia.\n",
       "5                                                                                                                                                His speciality is medical risk assessments and is 30 years old.\n",
       "6                                                                  Results: A total of nine studies including 356 patients were included in this study, \\nthe mean age was 52.4 years and 221 (62.1%) were male."
      ]
     },
     "execution_count": 2,
     "metadata": {},
     "output_type": "execute_result"
    }
   ],
   "source": [
    "data = [\n",
    "'Indeed, risk factors are sex, obesity, genetic factors and mechanical factors (3) .',\n",
    "'There is a risk of Donald Trump running again in 2024.',\n",
    "\"\"\"This risk was consistent across patients stratified by history of CVD, risk factors \n",
    "but no CVD, and neither CVD nor risk factors.\"\"\",\n",
    "\"\"\"Risk factors associated with subsequent death include older age, hypertension, diabetes, \n",
    "ischemic heart disease, obesity and chronic lung disease; however, sometimes \n",
    "there are no obvious risk factors .\"\"\",\n",
    "'Three major risk factors for COVID-19 were sex (male), age (≥60), and severe pneumonia.',\n",
    "'His speciality is medical risk assessments and is 30 years old.',\n",
    "\"\"\"Results: A total of nine studies including 356 patients were included in this study, \n",
    "the mean age was 52.4 years and 221 (62.1%) were male.\"\"\"]\n",
    "import pandas as pd\n",
    "pd.set_option(\"display.max_colwidth\", None)\n",
    "df = pd.DataFrame(data, columns=['Text'])\n",
    "df.head(10)"
   ]
  },
  {
   "cell_type": "markdown",
   "metadata": {},
   "source": [
    "Let's pretend your boss wants you to extract both the reported risk factors from each document and the sample sizes for the reported studies.  This can easily be accomplished with the `AnswerExtractor` in **ktrain**, a kind of universal information extractor based on a Question-Answering model."
   ]
  },
  {
   "cell_type": "code",
   "execution_count": 3,
   "metadata": {},
   "outputs": [
    {
     "data": {
      "text/html": [],
      "text/plain": [
       "<IPython.core.display.HTML object>"
      ]
     },
     "metadata": {},
     "output_type": "display_data"
    },
    {
     "data": {
      "text/html": [],
      "text/plain": [
       "<IPython.core.display.HTML object>"
      ]
     },
     "metadata": {},
     "output_type": "display_data"
    },
    {
     "data": {
      "text/html": [
       "<div>\n",
       "<style scoped>\n",
       "    .dataframe tbody tr th:only-of-type {\n",
       "        vertical-align: middle;\n",
       "    }\n",
       "\n",
       "    .dataframe tbody tr th {\n",
       "        vertical-align: top;\n",
       "    }\n",
       "\n",
       "    .dataframe thead th {\n",
       "        text-align: right;\n",
       "    }\n",
       "</style>\n",
       "<table border=\"1\" class=\"dataframe\">\n",
       "  <thead>\n",
       "    <tr style=\"text-align: right;\">\n",
       "      <th></th>\n",
       "      <th>Text</th>\n",
       "      <th>Risk Factors</th>\n",
       "      <th>Sample Size</th>\n",
       "    </tr>\n",
       "  </thead>\n",
       "  <tbody>\n",
       "    <tr>\n",
       "      <th>0</th>\n",
       "      <td>Indeed, risk factors are sex, obesity, genetic factors and mechanical factors (3) .</td>\n",
       "      <td>sex, obesity, genetic factors and mechanical factors</td>\n",
       "      <td>None</td>\n",
       "    </tr>\n",
       "    <tr>\n",
       "      <th>1</th>\n",
       "      <td>There is a risk of Donald Trump running again in 2024.</td>\n",
       "      <td>None</td>\n",
       "      <td>None</td>\n",
       "    </tr>\n",
       "    <tr>\n",
       "      <th>2</th>\n",
       "      <td>This risk was consistent across patients stratified by history of CVD, risk factors \\nbut no CVD, and neither CVD nor risk factors.</td>\n",
       "      <td>and neither cvd nor risk factors</td>\n",
       "      <td>None</td>\n",
       "    </tr>\n",
       "    <tr>\n",
       "      <th>3</th>\n",
       "      <td>Risk factors associated with subsequent death include older age, hypertension, diabetes, \\nischemic heart disease, obesity and chronic lung disease; however, sometimes \\nthere are no obvious risk factors .</td>\n",
       "      <td>older age, hypertension, diabetes, ischemic heart disease, obesity and chronic lung disease</td>\n",
       "      <td>None</td>\n",
       "    </tr>\n",
       "    <tr>\n",
       "      <th>4</th>\n",
       "      <td>Three major risk factors for COVID-19 were sex (male), age (≥60), and severe pneumonia.</td>\n",
       "      <td>sex (male), age (≥60), and severe pneumonia</td>\n",
       "      <td>None</td>\n",
       "    </tr>\n",
       "    <tr>\n",
       "      <th>5</th>\n",
       "      <td>His speciality is medical risk assessments and is 30 years old.</td>\n",
       "      <td>None</td>\n",
       "      <td>None</td>\n",
       "    </tr>\n",
       "    <tr>\n",
       "      <th>6</th>\n",
       "      <td>Results: A total of nine studies including 356 patients were included in this study, \\nthe mean age was 52.4 years and 221 (62.1%) were male.</td>\n",
       "      <td>None</td>\n",
       "      <td>356</td>\n",
       "    </tr>\n",
       "  </tbody>\n",
       "</table>\n",
       "</div>"
      ],
      "text/plain": [
       "                                                                                                                                                                                                            Text  \\\n",
       "0                                                                                                                            Indeed, risk factors are sex, obesity, genetic factors and mechanical factors (3) .   \n",
       "1                                                                                                                                                         There is a risk of Donald Trump running again in 2024.   \n",
       "2                                                                            This risk was consistent across patients stratified by history of CVD, risk factors \\nbut no CVD, and neither CVD nor risk factors.   \n",
       "3  Risk factors associated with subsequent death include older age, hypertension, diabetes, \\nischemic heart disease, obesity and chronic lung disease; however, sometimes \\nthere are no obvious risk factors .   \n",
       "4                                                                                                                        Three major risk factors for COVID-19 were sex (male), age (≥60), and severe pneumonia.   \n",
       "5                                                                                                                                                His speciality is medical risk assessments and is 30 years old.   \n",
       "6                                                                  Results: A total of nine studies including 356 patients were included in this study, \\nthe mean age was 52.4 years and 221 (62.1%) were male.   \n",
       "\n",
       "                                                                                  Risk Factors  \\\n",
       "0                                         sex, obesity, genetic factors and mechanical factors   \n",
       "1                                                                                         None   \n",
       "2                                                             and neither cvd nor risk factors   \n",
       "3  older age, hypertension, diabetes, ischemic heart disease, obesity and chronic lung disease   \n",
       "4                                                  sex (male), age (≥60), and severe pneumonia   \n",
       "5                                                                                         None   \n",
       "6                                                                                         None   \n",
       "\n",
       "  Sample Size  \n",
       "0        None  \n",
       "1        None  \n",
       "2        None  \n",
       "3        None  \n",
       "4        None  \n",
       "5        None  \n",
       "6         356  "
      ]
     },
     "execution_count": 3,
     "metadata": {},
     "output_type": "execute_result"
    }
   ],
   "source": [
    "from ktrain.text import AnswerExtractor\n",
    "ae = AnswerExtractor()\n",
    "df = ae.extract(df.Text.values, df, [('What are the risk factors?', 'Risk Factors'), \n",
    "                                     ('How many individuals in sample?', 'Sample Size')])\n",
    "df.head(10)"
   ]
  },
  {
   "cell_type": "markdown",
   "metadata": {},
   "source": [
    "As you can see, all that's required is that you phrase the type information you want to extract as a question (e.g., *What are the risk factors?*) and provide a label (e.g., *Risk Factors*).  The above command will return a new DataFrame with additional columns containing the information of interest.\n",
    "\n",
    "If there are false positives (or false negatives), you can adjust the `min_conf` parameter (i.e., minimum confidence threshold) until you’re happy (default is `min_conf=5`).  If `return_conf=True`, then columns showing the confidence scores of each extraction is also shown."
   ]
  },
  {
   "cell_type": "code",
   "execution_count": 4,
   "metadata": {},
   "outputs": [
    {
     "data": {
      "text/html": [],
      "text/plain": [
       "<IPython.core.display.HTML object>"
      ]
     },
     "metadata": {},
     "output_type": "display_data"
    },
    {
     "data": {
      "text/html": [],
      "text/plain": [
       "<IPython.core.display.HTML object>"
      ]
     },
     "metadata": {},
     "output_type": "display_data"
    },
    {
     "data": {
      "text/html": [
       "<div>\n",
       "<style scoped>\n",
       "    .dataframe tbody tr th:only-of-type {\n",
       "        vertical-align: middle;\n",
       "    }\n",
       "\n",
       "    .dataframe tbody tr th {\n",
       "        vertical-align: top;\n",
       "    }\n",
       "\n",
       "    .dataframe thead th {\n",
       "        text-align: right;\n",
       "    }\n",
       "</style>\n",
       "<table border=\"1\" class=\"dataframe\">\n",
       "  <thead>\n",
       "    <tr style=\"text-align: right;\">\n",
       "      <th></th>\n",
       "      <th>Text</th>\n",
       "      <th>Risk Factors</th>\n",
       "      <th>Risk Factors CONF</th>\n",
       "      <th>Sample Size</th>\n",
       "      <th>Sample Size CONF</th>\n",
       "    </tr>\n",
       "  </thead>\n",
       "  <tbody>\n",
       "    <tr>\n",
       "      <th>0</th>\n",
       "      <td>Indeed, risk factors are sex, obesity, genetic factors and mechanical factors (3) .</td>\n",
       "      <td>sex, obesity, genetic factors and mechanical factors</td>\n",
       "      <td>13.61</td>\n",
       "      <td>None</td>\n",
       "      <td>5.47</td>\n",
       "    </tr>\n",
       "    <tr>\n",
       "      <th>1</th>\n",
       "      <td>There is a risk of Donald Trump running again in 2024.</td>\n",
       "      <td>None</td>\n",
       "      <td>2.91</td>\n",
       "      <td>None</td>\n",
       "      <td>-1.95</td>\n",
       "    </tr>\n",
       "    <tr>\n",
       "      <th>2</th>\n",
       "      <td>This risk was consistent across patients stratified by history of CVD, risk factors \\nbut no CVD, and neither CVD nor risk factors.</td>\n",
       "      <td>and neither cvd nor risk factors</td>\n",
       "      <td>7.61</td>\n",
       "      <td>None</td>\n",
       "      <td>-3.74</td>\n",
       "    </tr>\n",
       "    <tr>\n",
       "      <th>3</th>\n",
       "      <td>Risk factors associated with subsequent death include older age, hypertension, diabetes, \\nischemic heart disease, obesity and chronic lung disease; however, sometimes \\nthere are no obvious risk factors .</td>\n",
       "      <td>older age, hypertension, diabetes, ischemic heart disease, obesity and chronic lung disease</td>\n",
       "      <td>15.07</td>\n",
       "      <td>None</td>\n",
       "      <td>-10000</td>\n",
       "    </tr>\n",
       "    <tr>\n",
       "      <th>4</th>\n",
       "      <td>Three major risk factors for COVID-19 were sex (male), age (≥60), and severe pneumonia.</td>\n",
       "      <td>sex (male), age (≥60), and severe pneumonia</td>\n",
       "      <td>12.65</td>\n",
       "      <td>None</td>\n",
       "      <td>3.69</td>\n",
       "    </tr>\n",
       "    <tr>\n",
       "      <th>5</th>\n",
       "      <td>His speciality is medical risk assessments and is 30 years old.</td>\n",
       "      <td>None</td>\n",
       "      <td>1.95</td>\n",
       "      <td>None</td>\n",
       "      <td>2.41</td>\n",
       "    </tr>\n",
       "    <tr>\n",
       "      <th>6</th>\n",
       "      <td>Results: A total of nine studies including 356 patients were included in this study, \\nthe mean age was 52.4 years and 221 (62.1%) were male.</td>\n",
       "      <td>None</td>\n",
       "      <td>-0.8</td>\n",
       "      <td>356</td>\n",
       "      <td>12.05</td>\n",
       "    </tr>\n",
       "  </tbody>\n",
       "</table>\n",
       "</div>"
      ],
      "text/plain": [
       "                                                                                                                                                                                                            Text  \\\n",
       "0                                                                                                                            Indeed, risk factors are sex, obesity, genetic factors and mechanical factors (3) .   \n",
       "1                                                                                                                                                         There is a risk of Donald Trump running again in 2024.   \n",
       "2                                                                            This risk was consistent across patients stratified by history of CVD, risk factors \\nbut no CVD, and neither CVD nor risk factors.   \n",
       "3  Risk factors associated with subsequent death include older age, hypertension, diabetes, \\nischemic heart disease, obesity and chronic lung disease; however, sometimes \\nthere are no obvious risk factors .   \n",
       "4                                                                                                                        Three major risk factors for COVID-19 were sex (male), age (≥60), and severe pneumonia.   \n",
       "5                                                                                                                                                His speciality is medical risk assessments and is 30 years old.   \n",
       "6                                                                  Results: A total of nine studies including 356 patients were included in this study, \\nthe mean age was 52.4 years and 221 (62.1%) were male.   \n",
       "\n",
       "                                                                                  Risk Factors  \\\n",
       "0                                         sex, obesity, genetic factors and mechanical factors   \n",
       "1                                                                                         None   \n",
       "2                                                             and neither cvd nor risk factors   \n",
       "3  older age, hypertension, diabetes, ischemic heart disease, obesity and chronic lung disease   \n",
       "4                                                  sex (male), age (≥60), and severe pneumonia   \n",
       "5                                                                                         None   \n",
       "6                                                                                         None   \n",
       "\n",
       "  Risk Factors CONF Sample Size Sample Size CONF  \n",
       "0             13.61        None             5.47  \n",
       "1              2.91        None            -1.95  \n",
       "2              7.61        None            -3.74  \n",
       "3             15.07        None           -10000  \n",
       "4             12.65        None             3.69  \n",
       "5              1.95        None             2.41  \n",
       "6              -0.8         356            12.05  "
      ]
     },
     "execution_count": 4,
     "metadata": {},
     "output_type": "execute_result"
    }
   ],
   "source": [
    "del df['Risk Factors']\n",
    "del df['Sample Size']\n",
    "df = ae.extract(df.Text.values, df, [('What are the risk factors?', 'Risk Factors'), \n",
    "                                     ('How many individuals in sample?', 'Sample Size')], return_conf=True)\n",
    "df.head(10)"
   ]
  },
  {
   "cell_type": "code",
   "execution_count": null,
   "metadata": {},
   "outputs": [],
   "source": []
  }
 ],
 "metadata": {
  "kernelspec": {
   "display_name": "Python 3",
   "language": "python",
   "name": "python3"
  },
  "language_info": {
   "codemirror_mode": {
    "name": "ipython",
    "version": 3
   },
   "file_extension": ".py",
   "mimetype": "text/x-python",
   "name": "python",
   "nbconvert_exporter": "python",
   "pygments_lexer": "ipython3",
   "version": "3.6.9"
  }
 },
 "nbformat": 4,
 "nbformat_minor": 2
}

{
 "cells": [
  {
   "cell_type": "code",
   "execution_count": 1,
   "metadata": {},
   "outputs": [],
   "source": [
    "%reload_ext autoreload\n",
    "%autoreload 2"
   ]
  },
  {
   "cell_type": "markdown",
   "metadata": {},
   "source": [
    "## Keyphrase Extraction in `ktrain`\n",
    "\n",
    "Keyphrase extraction in **ktrain** leverages the [textblob](https://textblob.readthedocs.io/en/dev/) package, which can be installed with:\n",
    "```\n",
    "pip install textblob\n",
    "python -m textblob.download_corpora\n",
    "```"
   ]
  },
  {
   "cell_type": "code",
   "execution_count": 2,
   "metadata": {},
   "outputs": [],
   "source": [
    "from ktrain.text.kw import KeywordExtractor\n",
    "from ktrain.text.textextractor import TextExtractor"
   ]
  },
  {
   "cell_type": "markdown",
   "metadata": {},
   "source": [
    "#### Downloaded a Paper from ArXiv and Extract Text\n",
    "For our test document, let's download the ktrain ArXiv paper and use the `TextExtractor` module to extract text."
   ]
  },
  {
   "cell_type": "code",
   "execution_count": 3,
   "metadata": {},
   "outputs": [],
   "source": [
    "!wget --user-agent=\"Mozilla\" https://arxiv.org/pdf/2004.10703.pdf -O /tmp/downloaded_paper.pdf -q\n",
    "text = TextExtractor().extract('/tmp/downloaded_paper.pdf')"
   ]
  },
  {
   "cell_type": "code",
   "execution_count": 14,
   "metadata": {},
   "outputs": [
    {
     "name": "stdout",
     "output_type": "stream",
     "text": [
      "# of words in downloaded paper: 4551\n"
     ]
    }
   ],
   "source": [
    "print(f\"# of words in downloaded paper: {len(text.split())}\")"
   ]
  },
  {
   "cell_type": "markdown",
   "metadata": {},
   "source": [
    "#### Using N-Grams as the candidate generator\n",
    "\n",
    "Let's first use `ngrams` as the candidate generator, which is comparatively fast:"
   ]
  },
  {
   "cell_type": "code",
   "execution_count": 5,
   "metadata": {},
   "outputs": [],
   "source": [
    "kwe = KeywordExtractor()"
   ]
  },
  {
   "cell_type": "code",
   "execution_count": 9,
   "metadata": {},
   "outputs": [
    {
     "name": "stdout",
     "output_type": "stream",
     "text": [
      "CPU times: user 351 ms, sys: 27.6 ms, total: 379 ms\n",
      "Wall time: 378 ms\n"
     ]
    },
    {
     "data": {
      "text/plain": [
       "[('machine learning', 0.10548523206751055),\n",
       " ('step', 0.06751054852320675),\n",
       " ('learning rate', 0.046413502109704644),\n",
       " ('arxiv preprint', 0.046413502109704644),\n",
       " ('text classification', 0.03375527426160337),\n",
       " ('augmented machine', 0.02531645569620253),\n",
       " ('open-domain question-answering', 0.02531645569620253),\n",
       " ('augmented machine learning', 0.02531645569620253),\n",
       " ('bert', 0.02109704641350211),\n",
       " ('low-code library', 0.02109704641350211)]"
      ]
     },
     "execution_count": 9,
     "metadata": {},
     "output_type": "execute_result"
    }
   ],
   "source": [
    "%%time\n",
    "kwe.extract_keywords(text, candidate_generator='ngrams')"
   ]
  },
  {
   "cell_type": "markdown",
   "metadata": {},
   "source": [
    "#### Using Noun Phrases as the candidate generator\n",
    "\n",
    "\n",
    "If we use `noun_phrases` as the candidate generator instead, quality improves slightly at the expense of a longer running time."
   ]
  },
  {
   "cell_type": "code",
   "execution_count": 10,
   "metadata": {},
   "outputs": [
    {
     "name": "stdout",
     "output_type": "stream",
     "text": [
      "CPU times: user 1.09 s, sys: 273 µs, total: 1.09 s\n",
      "Wall time: 1.09 s\n"
     ]
    },
    {
     "data": {
      "text/plain": [
       "[('machine learning', 0.0784313725490196),\n",
       " ('text classification', 0.049019607843137254),\n",
       " ('image classification', 0.049019607843137254),\n",
       " ('exact answers', 0.0392156862745098),\n",
       " ('augmented machine learning', 0.0392156862745098),\n",
       " ('graph data', 0.029411764705882353),\n",
       " ('node classification', 0.029411764705882353),\n",
       " ('entity recognition', 0.029411764705882353),\n",
       " ('code example', 0.029411764705882353),\n",
       " ('index documents', 0.029411764705882353)]"
      ]
     },
     "execution_count": 10,
     "metadata": {},
     "output_type": "execute_result"
    }
   ],
   "source": [
    "%%time\n",
    "kwe.extract_keywords(text, candidate_generator='noun_phrases')"
   ]
  },
  {
   "cell_type": "markdown",
   "metadata": {},
   "source": [
    "#### Other Parameters\n",
    "The `extract_keywords` method has many other parameters to control the output.  For instance, you can control the number of words in keyphrases with the `ngram_range` parameter. Here, we extract 3-word keyphrases:"
   ]
  },
  {
   "cell_type": "code",
   "execution_count": 11,
   "metadata": {},
   "outputs": [
    {
     "data": {
      "text/plain": [
       "[('augmented machine learning', 0.07017543859649122),\n",
       " ('a. s. maiya', 0.05263157894736842),\n",
       " ('optimal learning rate', 0.03508771929824561),\n",
       " ('natural language questions', 0.03508771929824561),\n",
       " ('support text data', 0.017543859649122806),\n",
       " ('learning rate schedules', 0.017543859649122806),\n",
       " ('machine learning model', 0.017543859649122806),\n",
       " ('unsupervised topic modeling', 0.017543859649122806),\n",
       " ('large text corpus', 0.017543859649122806),\n",
       " ('social media accounts', 0.017543859649122806)]"
      ]
     },
     "execution_count": 11,
     "metadata": {},
     "output_type": "execute_result"
    }
   ],
   "source": [
    "kwe.extract_keywords(text, candidate_generator='noun_phrases', ngram_range=(3,3))"
   ]
  },
  {
   "cell_type": "code",
   "execution_count": null,
   "metadata": {},
   "outputs": [],
   "source": []
  },
  {
   "cell_type": "code",
   "execution_count": null,
   "metadata": {},
   "outputs": [],
   "source": []
  },
  {
   "cell_type": "markdown",
   "metadata": {},
   "source": [
    "#### Combining All the Steps:  Low-Code Keyphrase Extraction"
   ]
  },
  {
   "cell_type": "code",
   "execution_count": 13,
   "metadata": {},
   "outputs": [
    {
     "data": {
      "text/plain": [
       "[('machine learning', 0.0784313725490196),\n",
       " ('text classification', 0.049019607843137254),\n",
       " ('image classification', 0.049019607843137254),\n",
       " ('exact answers', 0.0392156862745098),\n",
       " ('augmented machine learning', 0.0392156862745098),\n",
       " ('graph data', 0.029411764705882353),\n",
       " ('node classification', 0.029411764705882353),\n",
       " ('entity recognition', 0.029411764705882353),\n",
       " ('code example', 0.029411764705882353),\n",
       " ('index documents', 0.029411764705882353)]"
      ]
     },
     "execution_count": 13,
     "metadata": {},
     "output_type": "execute_result"
    }
   ],
   "source": [
    "from ktrain.text.kw import KeywordExtractor\n",
    "from ktrain.text.textextractor import TextExtractor\n",
    "!wget --user-agent=\"Mozilla\" https://arxiv.org/pdf/2004.10703.pdf -O /tmp/downloaded_paper.pdf -q\n",
    "text = TextExtractor().extract('/tmp/downloaded_paper.pdf')\n",
    "kwe.extract_keywords(text, candidate_generator='noun_phrases')"
   ]
  },
  {
   "cell_type": "code",
   "execution_count": null,
   "metadata": {},
   "outputs": [],
   "source": []
  }
 ],
 "metadata": {
  "kernelspec": {
   "display_name": "Python 3",
   "language": "python",
   "name": "python3"
  },
  "language_info": {
   "codemirror_mode": {
    "name": "ipython",
    "version": 3
   },
   "file_extension": ".py",
   "mimetype": "text/x-python",
   "name": "python",
   "nbconvert_exporter": "python",
   "pygments_lexer": "ipython3",
   "version": "3.6.9"
  }
 },
 "nbformat": 4,
 "nbformat_minor": 2
}
